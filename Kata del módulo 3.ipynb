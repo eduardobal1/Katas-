{
 "cells": [
  {
   "cell_type": "code",
   "execution_count": 1,
   "metadata": {},
   "outputs": [
    {
     "name": "stdout",
     "output_type": "stream",
     "text": [
      "Alerta! ¡Un asteroide se acerca a valocidades peligrosas!\n"
     ]
    }
   ],
   "source": [
    "#1°\n",
    "# Añadir el código necesario para crear una variable que guarde la velocidad del asteroide.\n",
    "# Escribe una expresión de prueba para calcular si necesita una advertencia.\n",
    "# Agregue las instrucciones que se ejecutarán si la expresión de prueba es true o false.\n",
    "asteroide = 100 \n",
    "if asteroide > 25:\n",
    "    print('Alerta! ¡Un asteroide se acerca a valocidades peligrosas!')\n",
    "else:\n",
    "    print('¡Sigue con tu día')"
   ]
  },
  {
   "cell_type": "code",
   "execution_count": 2,
   "metadata": {},
   "outputs": [
    {
     "name": "stdout",
     "output_type": "stream",
     "text": [
      "Alerta! ¡Un asteroide se acerca a valocidades peligrosas!\n"
     ]
    }
   ],
   "source": [
    "asteroide = 100 \n",
    "if asteroide > 25:\n",
    "    print('Alerta! ¡Un asteroide se acerca a valocidades peligrosas!')\n",
    "else:\n",
    "    print('¡Sigue con tu día')"
   ]
  },
  {
   "cell_type": "code",
   "execution_count": 2,
   "metadata": {},
   "outputs": [
    {
     "name": "stdout",
     "output_type": "stream",
     "text": [
      "Nada que ver aquí\n"
     ]
    }
   ],
   "source": [
    "#2°\n",
    "# Agrega el código para crear una variable para un asteroide que viaja a 19 km/s\n",
    "# Escribe varias expresiones de prueba para determinar si puedes ver el rayo de luz desde la tierra\n",
    "# Agrega las instrucciones que se ejecutarán si las expresiones de prueba son True o False\n",
    "asteroide = 19\n",
    "if asteroide > 20:\n",
    "    print('¡Mira arriba! ¡Hay un rayo de luz en el cierlo !')\n",
    "elif asteroide == 20:\n",
    "    print('¡Mira arriba! ¡Hay un rayo de luz en el cielo !')\n",
    "else:\n",
    "    print('Nada que ver aquí')"
   ]
  },
  {
   "cell_type": "code",
   "execution_count": 3,
   "metadata": {},
   "outputs": [
    {
     "name": "stdout",
     "output_type": "stream",
     "text": [
      "Nada que ver aquí :)\n"
     ]
    }
   ],
   "source": [
    "#3° \n",
    "# Agrega el código para crear nuevas variables para la velocidad y el tamaño del asteroide\n",
    "# Para probar el código, prueba con varias velocidades y tamaños\n",
    "# Escribe varias expresiones de prueba o combinaciones de expresiones de prueba para determinar qué mensaje se debe enviar a Tierra.\n",
    "\n",
    "velocidad_asteroide = 10 \n",
    "tamano_Asteroide = 50\n",
    "if velocidad_asteroide > 25 and tamano_Asteroide > 15:\n",
    "    print('¡Alerta, Un asteroide viene hacia la Tierra!')\n",
    "elif velocidad_asteroide >= 20:\n",
    "    print('¡Mira arriba! ¡Hay un rayo de luz en el cielo !')\n",
    "elif tamano_Asteroide > 25:\n",
    "    print('Nada que ver aquí :)')\n",
    "else:\n",
    "    print('Nada que ver aquí :)')"
   ]
  }
 ],
 "metadata": {
  "interpreter": {
   "hash": "7a07afee1669db9551f7cde3d6b99f29c68752166574199d129876823e2dcdce"
  },
  "kernelspec": {
   "display_name": "Python 3.10.2 64-bit (windows store)",
   "language": "python",
   "name": "python3"
  },
  "language_info": {
   "codemirror_mode": {
    "name": "ipython",
    "version": 3
   },
   "file_extension": ".py",
   "mimetype": "text/x-python",
   "name": "python",
   "nbconvert_exporter": "python",
   "pygments_lexer": "ipython3",
   "version": "3.10.2"
  },
  "orig_nbformat": 4
 },
 "nbformat": 4,
 "nbformat_minor": 2
}
